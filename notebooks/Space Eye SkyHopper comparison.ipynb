{
 "cells": [
  {
   "cell_type": "code",
   "execution_count": 1,
   "metadata": {},
   "outputs": [
    {
     "name": "stderr",
     "output_type": "stream",
     "text": [
      "/Users/lspitler/miniconda3/lib/python3.6/site-packages/matplotlib/__init__.py:1405: UserWarning: \n",
      "This call to matplotlib.use() has no effect because the backend has already\n",
      "been chosen; matplotlib.use() must be called *before* pylab, matplotlib.pyplot,\n",
      "or matplotlib.backends is imported for the first time.\n",
      "\n",
      "  warnings.warn(_use_error_msg)\n"
     ]
    }
   ],
   "source": [
    "import numpy as np\n",
    "import matplotlib.pyplot as plt\n",
    "from matplotlib import rcParams\n",
    "import astropy.units as u\n",
    "from astropy.table import Table\n",
    "from scipy.optimize import least_squares\n",
    "from gunagala import camera, optical_filter, optic, psf, sky, imager"
   ]
  },
  {
   "cell_type": "code",
   "execution_count": 2,
   "metadata": {},
   "outputs": [],
   "source": [
    "%matplotlib inline"
   ]
  },
  {
   "cell_type": "code",
   "execution_count": 3,
   "metadata": {},
   "outputs": [],
   "source": [
    "rcParams['figure.figsize'] = 12, 8\n",
    "rcParams['text.usetex'] = False"
   ]
  },
  {
   "cell_type": "markdown",
   "metadata": {},
   "source": [
    "## Space Eye model\n",
    "\n",
    "We just use the model already in `gunagala`, for the 90 mm refractor with 2 narrowband filters (on & off) and two broadband filters (i, z)."
   ]
  },
  {
   "cell_type": "code",
   "execution_count": 4,
   "metadata": {},
   "outputs": [
    {
     "name": "stderr",
     "output_type": "stream",
     "text": [
      "WARNING: AstropyDeprecationWarning: The truth value of a Quantity is ambiguous. In the future this will raise a ValueError. [astropy.units.quantity]\n",
      "WARNING: AstropyDeprecationWarning: \n",
      "Private attributes \"_naxis1\" and \"_naxis2\" have been deprecated since v3.1.\n",
      "Instead use the \"pixel_shape\" property which returns a list of NAXISj keyword values.\n",
      " [astropy.wcs.wcs]\n",
      "WARNING: AstropyDeprecationWarning: \n",
      "Private attributes \"_naxis1\" and \"_naxis2\" have been deprecated since v3.1.\n",
      "Instead use the \"pixel_shape\" property which returns a list of NAXISj keyword values.\n",
      " [astropy.wcs.wcs]\n"
     ]
    }
   ],
   "source": [
    "defaults = imager.create_imagers()"
   ]
  },
  {
   "cell_type": "code",
   "execution_count": 5,
   "metadata": {},
   "outputs": [],
   "source": [
    "space_eye_nb = defaults['ase_2017']"
   ]
  },
  {
   "cell_type": "code",
   "execution_count": 6,
   "metadata": {},
   "outputs": [
    {
     "data": {
      "text/plain": [
       "{'ase_i1': <gunagala.optical_filter.Filter at 0x11807e390>,\n",
       " 'ase_nb855': <gunagala.optical_filter.Filter at 0x1180cd128>,\n",
       " 'ase_nb858': <gunagala.optical_filter.Filter at 0x1180c8eb8>,\n",
       " 'ase_z3': <gunagala.optical_filter.Filter at 0x11808ca58>}"
      ]
     },
     "execution_count": 6,
     "metadata": {},
     "output_type": "execute_result"
    }
   ],
   "source": [
    "space_eye_nb.filters"
   ]
  },
  {
   "cell_type": "markdown",
   "metadata": {},
   "source": [
    "## SkyHopper model\n",
    "\n",
    "Here we construct an approximate performance model programmatically.\n",
    "\n",
    "### Sky background\n",
    "\n",
    "As an optical-infrared space telescope the dominant sky background for SkyHopper will be the Zodiacal Light. We can use the model from `gunagala`."
   ]
  },
  {
   "cell_type": "code",
   "execution_count": 7,
   "metadata": {},
   "outputs": [],
   "source": [
    "zl = sky.ZodiacalLight()"
   ]
  },
  {
   "cell_type": "markdown",
   "metadata": {},
   "source": [
    "### Telescope\n",
    "\n",
    "SkyHopper has a ~100 x 200 mm primary mirror, but a primary baffle is planned that will give a kidney bean shaped effective aperture of somewhat less area. `gunagala` currently only supports circular apertures.  For a simple signal to noise calculation assume the effective collecting area is twice that of Space Eye. Throughput is set so that the eventual end-to-end efficiency matches the ~40% figure given for SkyHopper.  The focal length is set to give 4 arcsecond/pixel sampling."
   ]
  },
  {
   "cell_type": "code",
   "execution_count": 8,
   "metadata": {},
   "outputs": [],
   "source": [
    "ws = [800, 1800] * u.nm\n",
    "tps = [0.6, 0.6] * u.dimensionless_unscaled\n",
    "sktp = Table(data = [ws, tps], names=['Wavelength', 'Throughput'])\n",
    "sktp.write('skyhopper_tp.csv', overwrite=True)"
   ]
  },
  {
   "cell_type": "markdown",
   "metadata": {},
   "source": [
    "After creating the `skyhopper_tp.csw` file it must be copied to/linked from the `gunagala` performance data directory."
   ]
  },
  {
   "cell_type": "code",
   "execution_count": 9,
   "metadata": {},
   "outputs": [],
   "source": [
    "skyhopper_scope = optic.Optic(aperture=90 * 2**0.5 * u.mm,\n",
    "                              focal_length=(18 * u.micron / (4 * u.arcsecond)).to(u.mm,\n",
    "                                                                                  equivalencies=u.equivalencies.dimensionless_angles()),\n",
    "                              throughput='skyhopper_tp.csv')"
   ]
  },
  {
   "cell_type": "code",
   "execution_count": 10,
   "metadata": {},
   "outputs": [
    {
     "data": {
      "text/latex": [
       "$928.19163 \\; \\mathrm{mm}$"
      ],
      "text/plain": [
       "<Quantity 928.1916281119335 mm>"
      ]
     },
     "execution_count": 10,
     "metadata": {},
     "output_type": "execute_result"
    }
   ],
   "source": [
    "skyhopper_scope.focal_length"
   ]
  },
  {
   "cell_type": "markdown",
   "metadata": {},
   "source": [
    "### Image sensor\n",
    "\n",
    "SkyHopper will use a Teledyne Hawaii-2RG, 1.7 micron cutoff version. The official specifications (http://www.teledyne-si.com/products/Documents/H2RG%20Brochure%20-%20September%202017.pdf) only give 'minimum' and 'goal' values, which are themselves lower limits.  Here we use the goal values, and assume correlated double sampling readout at 100kHz pixel readout rate, using all 32 readout channels.\n",
    "\n",
    "Space Eye would probably benefit considerably from up-the-ramp sampling readout, if the SkyHopper image sensor electronics will support it.\n",
    "\n",
    "For this calculation we only consider the z' channel, which uses 1/4 of the image sensor (2048 x 512 pixels)."
   ]
  },
  {
   "cell_type": "code",
   "execution_count": 11,
   "metadata": {},
   "outputs": [],
   "source": [
    "ws = [800, 1000, 1230, 1500, 1700, 1800] * u.nm\n",
    "qes = [0.7, 0.7, 0.8, 0.8, 0.8, 0.0] * u.dimensionless_unscaled\n",
    "h2rgqe = Table(data = [ws, qes], names=['Wavelength', 'QE'])\n",
    "h2rgqe.write('hawaii_2rg_qe.csv', overwrite=True)"
   ]
  },
  {
   "cell_type": "markdown",
   "metadata": {},
   "source": [
    "After creating the `hawaii_2rg_qe.csv` file it must be copied to/linked from the `gunagala` performance data directory."
   ]
  },
  {
   "cell_type": "code",
   "execution_count": 12,
   "metadata": {},
   "outputs": [],
   "source": [
    "hawaii2rg = camera.Camera(bit_depth=16,\n",
    "                          full_well=100000 * u.electron / u.pixel,\n",
    "                          gain=2 * u.electron / u.adu,\n",
    "                          bias=0 * u.adu / u.pixel,\n",
    "                          readout_time=1.25 * u.second,\n",
    "                          pixel_size=18 * u.micron / u.pixel,\n",
    "                          resolution=(2048, 512) * u.pixel,\n",
    "                          read_noise=15 * u.electron / u.pixel,\n",
    "                          dark_current= 0.01 * u.electron / (u.pixel * u.second),\n",
    "                          QE='hawaii_2rg_qe.csv',\n",
    "                          minimum_exposure=1.25 * u.second)"
   ]
  },
  {
   "cell_type": "markdown",
   "metadata": {},
   "source": [
    "### Filters\n",
    "\n",
    "To accommodate Space Eye science in the SkyHopper design we would add two narrowband filters to the z' channel of SkyHopper, dividing the focal plane equally between these three filters.  In the absence of the actual SkyHopper filter profiles we'll use the Chebyshev model from `gunagala`."
   ]
  },
  {
   "cell_type": "code",
   "execution_count": 13,
   "metadata": {},
   "outputs": [],
   "source": [
    "skyhopper_z = optical_filter.Filter(chebyshev_params={'order': 75,\n",
    "                                                      'peak': 0.95 * u.dimensionless_unscaled,\n",
    "                                                      'ripple': 0.05,\n",
    "                                                      'wave1': 810 * u.nm,\n",
    "                                                      'wave2': 940 * u.nm},\n",
    "                                    apply_aoi=True)\n",
    "\n",
    "skyhopper_nb_on = space_eye_nb.filters['ase_nb855']\n",
    "skyhopper_nb_off = space_eye_nb.filters['ase_nb858']"
   ]
  },
  {
   "cell_type": "code",
   "execution_count": 14,
   "metadata": {},
   "outputs": [
    {
     "data": {
      "text/latex": [
       "$875.10486 \\; \\mathrm{nm}$"
      ],
      "text/plain": [
       "<Quantity 875.1048631076308 nm>"
      ]
     },
     "execution_count": 14,
     "metadata": {},
     "output_type": "execute_result"
    }
   ],
   "source": [
    "skyhopper_z.lambda_c"
   ]
  },
  {
   "cell_type": "code",
   "execution_count": 15,
   "metadata": {},
   "outputs": [
    {
     "data": {
      "text/latex": [
       "$132.79339 \\; \\mathrm{nm}$"
      ],
      "text/plain": [
       "<Quantity 132.79339493552106 nm>"
      ]
     },
     "execution_count": 15,
     "metadata": {},
     "output_type": "execute_result"
    }
   ],
   "source": [
    "skyhopper_z.FWHM"
   ]
  },
  {
   "cell_type": "markdown",
   "metadata": {},
   "source": [
    "### Point spread function\n",
    "\n",
    "The SkyHopper PSF core is expected to be around 4 arcseconds, due to a combination of spacecraft pointing jitter and optical abberations. Use a simple Moffat profile with default shape parameter for now."
   ]
  },
  {
   "cell_type": "code",
   "execution_count": 18,
   "metadata": {},
   "outputs": [],
   "source": [
    "skyhopper_psf = psf.MoffatPSF(FWHM=4.0 * u.arcsecond)"
   ]
  },
  {
   "cell_type": "code",
   "execution_count": 19,
   "metadata": {},
   "outputs": [
    {
     "data": {
      "text/plain": [
       "<module 'gunagala.psf' from '/Users/lspitler/miniconda3/lib/python3.6/site-packages/gunagala-0.1.dev459-py3.6.egg/gunagala/psf.py'>"
      ]
     },
     "execution_count": 19,
     "metadata": {},
     "output_type": "execute_result"
    }
   ],
   "source": [
    "psf\n"
   ]
  },
  {
   "cell_type": "markdown",
   "metadata": {},
   "source": [
    "### Construct instrument model"
   ]
  },
  {
   "cell_type": "code",
   "execution_count": 20,
   "metadata": {},
   "outputs": [
    {
     "name": "stderr",
     "output_type": "stream",
     "text": [
      "WARNING: AstropyDeprecationWarning: The truth value of a Quantity is ambiguous. In the future this will raise a ValueError. [astropy.units.quantity]\n",
      "WARNING: AstropyDeprecationWarning: \n",
      "Private attributes \"_naxis1\" and \"_naxis2\" have been deprecated since v3.1.\n",
      "Instead use the \"pixel_shape\" property which returns a list of NAXISj keyword values.\n",
      " [astropy.wcs.wcs]\n",
      "WARNING: AstropyDeprecationWarning: \n",
      "Private attributes \"_naxis1\" and \"_naxis2\" have been deprecated since v3.1.\n",
      "Instead use the \"pixel_shape\" property which returns a list of NAXISj keyword values.\n",
      " [astropy.wcs.wcs]\n"
     ]
    }
   ],
   "source": [
    "skyhopper = imager.Imager(optic=skyhopper_scope,\n",
    "                          camera=hawaii2rg,\n",
    "                          filters={'z_prime': skyhopper_z,\n",
    "                                   'nb_on': skyhopper_nb_on,\n",
    "                                   'nb_off': skyhopper_nb_off},\n",
    "                          psf=skyhopper_psf,\n",
    "                          sky=zl,\n",
    "                          num_imagers=1)"
   ]
  },
  {
   "cell_type": "markdown",
   "metadata": {},
   "source": [
    "## End to end efficiencies comparison"
   ]
  },
  {
   "cell_type": "code",
   "execution_count": 21,
   "metadata": {},
   "outputs": [
    {
     "data": {
      "image/png": "[encoded data removed]",
      "text/plain": [
       "<matplotlib.figure.Figure at 0x119607438>"
      ]
     },
     "metadata": {},
     "output_type": "display_data"
    }
   ],
   "source": [
    "plt.plot(skyhopper.wavelengths, skyhopper.efficiencies['z_prime'], label=\"z'\")\n",
    "plt.plot(skyhopper.wavelengths, skyhopper.efficiencies['nb_on'], label='NB on')\n",
    "plt.plot(skyhopper.wavelengths, skyhopper.efficiencies['nb_off'], label='NB off')\n",
    "\n",
    "plt.legend(loc='upper right', fancybox=True, framealpha=0.3)\n",
    "plt.xlabel('Wavelength / nm')\n",
    "plt.ylabel('Efficiency / photon $e^{-1}$')\n",
    "plt.title('SkyHopper end to end efficiency')\n",
    "plt.xlim(650, 1050)\n",
    "plt.ylim(0, 0.45);"
   ]
  },
  {
   "cell_type": "code",
   "execution_count": 22,
   "metadata": {},
   "outputs": [
    {
     "data": {
      "image/png": "[encoded data removed]",
      "text/plain": [
       "<matplotlib.figure.Figure at 0x1193cec18>"
      ]
     },
     "metadata": {},
     "output_type": "display_data"
    }
   ],
   "source": [
    "plt.plot(space_eye_nb.wavelengths, space_eye_nb.efficiencies['ase_i1'], label=\"i'\")\n",
    "plt.plot(space_eye_nb.wavelengths, space_eye_nb.efficiencies['ase_nb855'], label='NB on')\n",
    "plt.plot(space_eye_nb.wavelengths, space_eye_nb.efficiencies['ase_nb858'], label='NB off')\n",
    "plt.plot(space_eye_nb.wavelengths, space_eye_nb.efficiencies['ase_z3'], label=\"z'\")\n",
    "\n",
    "plt.legend(loc='upper right', fancybox=True, framealpha=0.3)\n",
    "plt.xlabel('Wavelength / nm')\n",
    "plt.ylabel('Efficiency / photon $e^{-1}$')\n",
    "plt.title('Space Eye end to end efficiency')\n",
    "plt.xlim(650, 1050)\n",
    "plt.ylim(0, 0.75);"
   ]
  },
  {
   "cell_type": "markdown",
   "metadata": {},
   "source": [
    "At the crucial Calcium triplet wavelengths the end to end efficiencies of the two instruments are extremely similar. SkyHopper has a higher QE image sensor, but lower throughput reflective optics.\n",
    "\n",
    "## Point source sensitivity comparison"
   ]
  },
  {
   "cell_type": "code",
   "execution_count": 23,
   "metadata": {},
   "outputs": [
    {
     "data": {
      "text/latex": [
       "$19.750033 \\; \\mathrm{mag}$$\\mathrm{\\left( \\mathrm{AB} \\right)}$"
      ],
      "text/plain": [
       "<Magnitude 19.750032572316822 mag(AB)>"
      ]
     },
     "execution_count": 23,
     "metadata": {},
     "output_type": "execute_result"
    }
   ],
   "source": [
    "skyhopper.point_source_limit(total_exp_time=600*u.second,\n",
    "                             sub_exp_time=600*u.second,\n",
    "                             filter_name='z_prime',\n",
    "                             snr_target=5.0)"
   ]
  },
  {
   "cell_type": "markdown",
   "metadata": {},
   "source": [
    "The SkyHopper webpage gives a limit of 19.5 for these parameters in H band, so this for z' seems plausible."
   ]
  },
  {
   "cell_type": "code",
   "execution_count": 24,
   "metadata": {},
   "outputs": [
    {
     "data": {
      "text/latex": [
       "$20.444297 \\; \\mathrm{mag}$$\\mathrm{\\left( \\mathrm{AB} \\right)}$"
      ],
      "text/plain": [
       "<Magnitude 20.444297140456314 mag(AB)>"
      ]
     },
     "execution_count": 24,
     "metadata": {},
     "output_type": "execute_result"
    }
   ],
   "source": [
    "space_eye_nb.point_source_limit(total_exp_time=600*u.second,\n",
    "                                sub_exp_time=600*u.second,\n",
    "                                filter_name='ase_i1',\n",
    "                                snr_target=5.0)"
   ]
  },
  {
   "cell_type": "code",
   "execution_count": 25,
   "metadata": {},
   "outputs": [
    {
     "data": {
      "text/latex": [
       "$19.318093 \\; \\mathrm{mag}$$\\mathrm{\\left( \\mathrm{AB} \\right)}$"
      ],
      "text/plain": [
       "<Magnitude 19.318092928918794 mag(AB)>"
      ]
     },
     "execution_count": 25,
     "metadata": {},
     "output_type": "execute_result"
    }
   ],
   "source": [
    "space_eye_nb.point_source_limit(total_exp_time=600*u.second,\n",
    "                                sub_exp_time=600*u.second,\n",
    "                                filter_name='ase_z3',\n",
    "                                snr_target=5.0)"
   ]
  },
  {
   "cell_type": "markdown",
   "metadata": {},
   "source": [
    "In single exposures the point souce sensitivity of Space Eye is comparable. This is not entirely unexpected, SkyHopper has twice the collecting area but higher read noise.\n",
    "\n",
    "## Cosmic Infrared Background & Zodiacal Light measurements\n",
    "\n",
    "The Cosmic Infrared Background (CIB) and Zodiacal Light (ZL) are both components of the sky background, with ZL being the dominant one. ASE aims to measure the absolute surface brightness of both using multiband photometry, taking advantage of the Calcium triplet absorption features in the ZL spectrum.  The Zodiacal Light is expected to have equal Ca-triplet depth to the Solar spectrum while the extragalactic background light will not exhibit any absorption lines. Consequently a measurement of the sky background Ca-triplet absorption depth allows the separation of Zodiacal Light and extragalactic components.\n",
    "\n",
    "In practice the measurement of the CIB and ZL will be acheived by fitting models to the multiband photometry from ASE. In order to estimate the signal to noise in the fitted parameters we will use a highly simplified model and fitting procedure.\n",
    "\n",
    "### Cosmic Infrared Background estimate\n",
    "\n",
    "We base this on the lower limits for the integrated galactic light (IGL) from Driver et al 2017. There are expressed in terms of total flux for each band so we need to divide by the filter bandwidths to convert these to a band averaged spectral flux density, convert to photon based units and then interpolate the spectral energy distribution across the Space Eye wavelength range."
   ]
  },
  {
   "cell_type": "code",
   "execution_count": 26,
   "metadata": {},
   "outputs": [],
   "source": [
    "cib_waves = (749, 895) * u.nm # Pivot wavelengths of the filters used\n",
    "cib_limit = (9.35, 9.98) * u.W * u.m**-2 * u.sr**-1 / 1e9 # Lower limits, bandpass totals"
   ]
  },
  {
   "cell_type": "code",
   "execution_count": 27,
   "metadata": {},
   "outputs": [
    {
     "data": {
      "text/latex": [
       "$[1.4651095 \\times 10^{-21},~1.5638281 \\times 10^{-21}] \\; \\mathrm{\\frac{W}{nm\\,{}^{\\prime\\prime}^{2}\\,m^{2}}}$"
      ],
      "text/plain": [
       "<Quantity [  1.46510950e-21,  1.56382811e-21] W / (arcsec2 m2 nm)>"
      ]
     },
     "execution_count": 27,
     "metadata": {},
     "output_type": "execute_result"
    }
   ],
   "source": [
    "cib_limit_sfd = (cib_limit / (150 * u.nm)).to(u.W * u.m**-2 * u.arcsecond**-2 * u.nm**-1) # Divide by bandpass\n",
    "cib_limit_sfd"
   ]
  },
  {
   "cell_type": "code",
   "execution_count": 28,
   "metadata": {},
   "outputs": [
    {
     "data": {
      "text/latex": [
       "$[0.0055242736,~0.0070458814] \\; \\mathrm{\\frac{ph}{nm\\,s\\,{}^{\\prime\\prime}^{2}\\,m^{2}}}$"
      ],
      "text/plain": [
       "<Quantity [ 0.00552427, 0.00704588] ph / (arcsec2 m2 nm s)>"
      ]
     },
     "execution_count": 28,
     "metadata": {},
     "output_type": "execute_result"
    }
   ],
   "source": [
    "cib_unsurface_brightness = cib_limit_sfd * u.arcsecond**2 # Need to change units to use spectral_density equivalencies\n",
    "cib_limit_photon = cib_unsurface_brightness.to(u.photon * u.s**-1 * u.m**-2 * u.nm**-1, \n",
    "                                    equivalencies=u.equivalencies.spectral_density(cib_waves))\n",
    "cib_limit_photon = cib_limit_photon / u.arcsecond**2 # Change back to surface brightness units\n",
    "cib_limit_photon"
   ]
  },
  {
   "cell_type": "code",
   "execution_count": 29,
   "metadata": {},
   "outputs": [
    {
     "data": {
      "text/latex": [
       "$1.0421971 \\times 10^{-5} \\; \\mathrm{\\frac{ph}{s\\,{}^{\\prime\\prime}^{2}\\,m^{2}\\,nm^{2}}}$"
      ],
      "text/plain": [
       "<Quantity 1.0421971091125006e-05 ph / (arcsec2 m2 nm2 s)>"
      ]
     },
     "execution_count": 29,
     "metadata": {},
     "output_type": "execute_result"
    }
   ],
   "source": [
    "cib_gradient = (cib_limit_photon[1] - cib_limit_photon[0]) / (cib_waves[1] - cib_waves[0])\n",
    "cib_gradient = cib_gradient.to(u.photon * u.s**-1 * u.nm**-2 * u.arcsecond**-2 * u.m**-2)\n",
    "cib_gradient"
   ]
  },
  {
   "cell_type": "code",
   "execution_count": 30,
   "metadata": {},
   "outputs": [
    {
     "data": {
      "text/latex": [
       "$0.0065768927 \\; \\mathrm{\\frac{ph}{nm\\,s\\,{}^{\\prime\\prime}^{2}\\,m^{2}}}$"
      ],
      "text/plain": [
       "<Quantity 0.006576892658904247 ph / (arcsec2 m2 nm s)>"
      ]
     },
     "execution_count": 30,
     "metadata": {},
     "output_type": "execute_result"
    }
   ],
   "source": [
    "cib_850 = cib_limit_photon[0] + (cib_gradient * (850 * u.nm - cib_waves[0]))\n",
    "cib_850"
   ]
  },
  {
   "cell_type": "code",
   "execution_count": 31,
   "metadata": {},
   "outputs": [],
   "source": [
    "def cib_model(wavelengths, scale=cib_850, slope=cib_gradient):\n",
    "    cib = slope * (wavelengths - 850 * u.nm) + scale\n",
    "    return cib.to(u.photon * u.s**-1 * u.m**-2 * u.arcsecond**-2 * u.nm**-1)"
   ]
  },
  {
   "cell_type": "code",
   "execution_count": 32,
   "metadata": {},
   "outputs": [
    {
     "data": {
      "text/plain": [
       "<matplotlib.text.Text at 0x119463710>"
      ]
     },
     "execution_count": 32,
     "metadata": {},
     "output_type": "execute_result"
    },
    {
     "data": {
      "image/png": "[encoded data removed]",
      "text/plain": [
       "<matplotlib.figure.Figure at 0x1193cef98>"
      ]
     },
     "metadata": {},
     "output_type": "display_data"
    }
   ],
   "source": [
    "plt.plot(zl.waves.to(u.nm), \n",
    "         zl.photon_sfd.to(u.photon * u.s**-1 * u.m**-2 * u.arcsecond**-2 * u.nm**-1), label='ZL model')\n",
    "plt.errorbar(cib_waves.value, cib_limit_photon.value, xerr=((49,45), (101, 105)), \n",
    "             yerr=0.005, lolims=True, linestyle='none', label='Driver et al limits')\n",
    "plt.plot(space_eye_nb.wavelengths, cib_model(space_eye_nb.wavelengths), 'g:', label='CIB model')\n",
    "plt.plot(skyhopper.wavelengths, cib_model(skyhopper.wavelengths), 'g:')\n",
    "plt.legend()\n",
    "plt.xlim(680, 1030)\n",
    "plt.ylim(0,0.06)\n",
    "plt.title('Zodical Light and Cosmic Infrared Background')\n",
    "plt.xlabel('Wavelength / nm')\n",
    "plt.ylabel('Photon spectral flux density / photons s$^{-1}$ m$^{-2}$ arcsec$^{-2}$ nm$^{-1}$')"
   ]
  },
  {
   "cell_type": "markdown",
   "metadata": {},
   "source": [
    "### Model photometric data\n",
    "\n",
    "We then use the Zodical Light and Cosmic Infrared Background models to predict total signal and noise as measured in the Space Eye photometric bands. The model is parameterised by the ZL flux scaling, cosmic CIB flux scaling and CIB spectral slope, all expressed relative to the nominal values used above. "
   ]
  },
  {
   "cell_type": "code",
   "execution_count": 33,
   "metadata": {},
   "outputs": [],
   "source": [
    "def model_data(zl_scaling, cib_scaling, cib_slope, \n",
    "               instrument,\n",
    "               total_exposure_time,\n",
    "               sub_exposure_time,\n",
    "               filter_fractions,\n",
    "               binning_scale,\n",
    "               add_noise=False):\n",
    "            \n",
    "    data={}\n",
    "    \n",
    "    for filter_name in instrument.filter_names:\n",
    "        t_exp = total_exposure_time * filter_fractions[filter_name]\n",
    "        cib_signal, noise = instrument.extended_source_signal_noise(surface_brightness=lambda w: cib_model(w,\n",
    "                                                                                                           cib_scaling * cib_850,\n",
    "                                                                                                           cib_slope * cib_gradient),\n",
    "                                                                  filter_name=filter_name,\n",
    "                                                                  total_exp_time=t_exp,\n",
    "                                                                  sub_exp_time=sub_exposure_time,\n",
    "                                                                  calc_type='per arcsecond squared')\n",
    "        \n",
    "        zl_signal, noise_again = instrument.extended_source_signal_noise(surface_brightness=None,\n",
    "                                                                       filter_name=filter_name,\n",
    "                                                                       total_exp_time=t_exp,\n",
    "                                                                       sub_exp_time=sub_exposure_time,\n",
    "                                                                       calc_type='per arcsecond squared')\n",
    "        \n",
    "        # Spatial binning\n",
    "        cib_signal = (cib_signal * binning_scale**2).to(u.electron)\n",
    "        zl_signal = (zl_signal * binning_scale**2).to(u.electron)\n",
    "        binning_scale = binning_scale.to(u.arcsecond)\n",
    "        noise = (noise * binning_scale.value * binning_scale.unit**2).to(u.electron)\n",
    "        noise_again = (noise_again * binning_scale.value * binning_scale.unit**2).to(u.electron)\n",
    "    \n",
    "        # Adjust noise in accordance with ZL scaling\n",
    "        scaled_noise = ((zl_scaling - 1) * noise_again**2 + noise**2)**0.5\n",
    "    \n",
    "        if add_noise:\n",
    "            # Add random noise to expectation value\n",
    "            data[filter_name] = cib_signal + zl_scaling * zl_signal + \\\n",
    "                np.random.normal(scale=scaled_noise.value) * scaled_noise.unit\n",
    "        else:\n",
    "            # Return expectation value and noise\n",
    "            data[filter_name] = (cib_signal + zl_scaling * zl_signal, scaled_noise)\n",
    "        \n",
    "    return data"
   ]
  },
  {
   "cell_type": "markdown",
   "metadata": {},
   "source": [
    "#### Space Eye\n",
    "\n",
    "Minimum mission duration of 1 year (goal 2+), at least 2 main EBL fields (1 NEP, 1 SEP), duty cycle of 40%, exposure time split equally amongst the 4 filters. 1st do a calculation of the total signal and noise per arcsecond^2 in each field for each filter."
   ]
  },
  {
   "cell_type": "code",
   "execution_count": 34,
   "metadata": {},
   "outputs": [
    {
     "data": {
      "text/plain": [
       "{'ase_i1': (<Quantity 53006.688643512956 electron>,\n",
       "  <Quantity 254.32609002923346 electron>),\n",
       " 'ase_nb855': (<Quantity 527.6438595525691 electron>,\n",
       "  <Quantity 110.46590100839879 electron>),\n",
       " 'ase_nb858': (<Quantity 567.3471476527712 electron>,\n",
       "  <Quantity 110.64546341218677 electron>),\n",
       " 'ase_z3': (<Quantity 14015.92430019469 electron>,\n",
       "  <Quantity 160.28410940027547 electron>)}"
      ]
     },
     "execution_count": 34,
     "metadata": {},
     "output_type": "execute_result"
    }
   ],
   "source": [
    "mission_duration = 1 * u.year\n",
    "n_fields = 2\n",
    "duty_cycle = 0.4\n",
    "filter_fractions = {'ase_i1': 1/4,\n",
    "                    'ase_nb855': 1/4,\n",
    "                    'ase_nb858': 1/4,\n",
    "                    'ase_z3': 1/4}\n",
    "\n",
    "model_data(1.0, 1.0, 1.0,\n",
    "           instrument=space_eye_nb,\n",
    "           total_exposure_time=mission_duration * duty_cycle / n_fields,\n",
    "           sub_exposure_time=10 * u.minute,\n",
    "           filter_fractions=filter_fractions,\n",
    "           binning_scale=1 * u.arcsecond)"
   ]
  },
  {
   "cell_type": "markdown",
   "metadata": {},
   "source": [
    "#### SkyHopper\n",
    "\n",
    "3-6? months of mission time available for EBL observations, again at least 2 fields (1 NEP, 1 SEP), duty cycle also 40%, exposure time split equally amongst 3 filters."
   ]
  },
  {
   "cell_type": "code",
   "execution_count": 35,
   "metadata": {},
   "outputs": [
    {
     "data": {
      "text/plain": [
       "{'nb_off': (<Quantity 433.01092900360976 electron>,\n",
       "  <Quantity 114.43206905847507 electron>),\n",
       " 'nb_on': (<Quantity 387.6264574238695 electron>,\n",
       "  <Quantity 114.23359382171195 electron>),\n",
       " 'z_prime': (<Quantity 20434.82857161518 electron>,\n",
       "  <Quantity 181.9244790335132 electron>)}"
      ]
     },
     "execution_count": 35,
     "metadata": {},
     "output_type": "execute_result"
    }
   ],
   "source": [
    "ebl_allocation = 1/4 * u.year\n",
    "n_fields = 2\n",
    "duty_cycle = 0.4\n",
    "filter_fractions = {'z_prime': 1/3,\n",
    "                    'nb_on': 1/3,\n",
    "                    'nb_off': 1/3}\n",
    "\n",
    "model_data(1.0, 1.0, 1.0,\n",
    "           instrument=skyhopper,\n",
    "           total_exposure_time=ebl_allocation * duty_cycle / n_fields,\n",
    "           sub_exposure_time=10 * u.minute,\n",
    "           filter_fractions=filter_fractions,\n",
    "           binning_scale=1 * u.arcsecond)"
   ]
  },
  {
   "cell_type": "markdown",
   "metadata": {},
   "source": [
    "### Sensitivity estimates\n",
    "\n",
    "To estimate the signal to noise in the measurements of the zodiacal light and cosmic infrared background we use the model to generate sets of simulated data with noise then fit the model to the noisy data in order to recover the ZL flux scaling, CIB flux scaling and CIB spectral slope parameters. Using a brute force Monte Carlo method we can obtain a simple estimate of the uncertainty in the recovered parameters."
   ]
  },
  {
   "cell_type": "code",
   "execution_count": 36,
   "metadata": {},
   "outputs": [],
   "source": [
    "def residual(params, \n",
    "             data,\n",
    "             instrument,\n",
    "             total_exposure_time,\n",
    "             sub_exposure_time,\n",
    "             filter_fractions,\n",
    "             binning_scale):\n",
    "    \n",
    "    model = model_data(params[0], params[1], params[2],\n",
    "                       instrument=instrument,\n",
    "                       total_exposure_time=total_exposure_time,\n",
    "                       sub_exposure_time=sub_exposure_time,\n",
    "                       filter_fractions=filter_fractions,\n",
    "                       binning_scale=binning_scale,\n",
    "                       add_noise=False)\n",
    "    residuals = []\n",
    "    \n",
    "    for filter_name in instrument.filter_names:\n",
    "        datum = data[filter_name]\n",
    "        residuals.append((datum - model[filter_name][0]) / model[filter_name][1])\n",
    "        \n",
    "    return residuals\n",
    "\n",
    "\n",
    "def simple_mc(instrument,\n",
    "              total_exposure_time,\n",
    "              sub_exposure_time,\n",
    "              filter_fractions,\n",
    "              binning_scale,\n",
    "              n=200):\n",
    "\n",
    "    parameters=[]\n",
    "\n",
    "    for i in range(n):\n",
    "        data = model_data(1.0, 1.0, 1.0,\n",
    "                          instrument=instrument,\n",
    "                          total_exposure_time=total_exposure_time,\n",
    "                          sub_exposure_time=sub_exposure_time,\n",
    "                          filter_fractions=filter_fractions,\n",
    "                          binning_scale=binning_scale,\n",
    "                          add_noise=True)\n",
    "        fit = least_squares(residual, (1.0, 1.0, 1.0),\n",
    "                            bounds=((0.9, 0.0, -5.0), (1.1, 2.0, 5.0)),\n",
    "                            kwargs={'data':data,\n",
    "                                    'instrument':instrument,\n",
    "                                    'total_exposure_time': total_exposure_time,\n",
    "                                    'sub_exposure_time': sub_exposure_time,\n",
    "                                    'filter_fractions': filter_fractions,\n",
    "                                    'binning_scale':binning_scale})\n",
    "        parameters.append(fit.x)\n",
    "\n",
    "    return np.array(parameters)"
   ]
  },
  {
   "cell_type": "markdown",
   "metadata": {},
   "source": [
    "For these simplified calculations we will assume binning of the ZL+EBL signal over the full field of view. In reality we will fit a more sophisticated spatially dependent model with strong priors on spatial variations based on previous observations of the smoothness of the Zodiacal Light. The resulting signal to noise would be similar.\n",
    "\n",
    "We also multiply by a masking factor to account for the proportion of the sky area that in unusable due to light from discrete sources.  This factor will depend on stray light levels and the sources in and near the actual fields chosen but for now just assume 50% in all cases."
   ]
  },
  {
   "cell_type": "code",
   "execution_count": 37,
   "metadata": {},
   "outputs": [
    {
     "data": {
      "text/latex": [
       "$1.4461539 \\; \\mathrm{{}^{\\circ}}$"
      ],
      "text/plain": [
       "<Quantity 1.4461538962772391 deg>"
      ]
     },
     "execution_count": 37,
     "metadata": {},
     "output_type": "execute_result"
    }
   ],
   "source": [
    "space_eye_scale = (space_eye_nb.field_of_view[0] * space_eye_nb.field_of_view[1])**0.5\n",
    "space_eye_scale"
   ]
  },
  {
   "cell_type": "code",
   "execution_count": 38,
   "metadata": {},
   "outputs": [
    {
     "data": {
      "text/latex": [
       "$1.1377778 \\; \\mathrm{{}^{\\circ}}$"
      ],
      "text/plain": [
       "<Quantity 1.137777777777778 deg>"
      ]
     },
     "execution_count": 38,
     "metadata": {},
     "output_type": "execute_result"
    }
   ],
   "source": [
    "skyhopper_scale = (skyhopper.field_of_view[0] * skyhopper.field_of_view[1])**0.5\n",
    "skyhopper_scale"
   ]
  },
  {
   "cell_type": "code",
   "execution_count": 39,
   "metadata": {},
   "outputs": [],
   "source": [
    "masking_factor = 0.5"
   ]
  },
  {
   "cell_type": "markdown",
   "metadata": {},
   "source": [
    "#### Space Eye\n",
    "\n",
    "##### 1 year mission:"
   ]
  },
  {
   "cell_type": "code",
   "execution_count": 40,
   "metadata": {},
   "outputs": [],
   "source": [
    "mission_duration = 1 * u.year\n",
    "n_fields = 2\n",
    "duty_cycle = 0.4\n",
    "filter_fractions = {'ase_i1': 1/4,\n",
    "                    'ase_nb855': 1/4,\n",
    "                    'ase_nb858': 1/4,\n",
    "                    'ase_z3': 1/4}\n",
    "\n",
    "binning_scale = space_eye_scale * masking_factor**0.5\n",
    "\n",
    "space_eye_results = simple_mc(instrument=space_eye_nb,\n",
    "                              total_exposure_time=mission_duration * duty_cycle / n_fields,\n",
    "                              sub_exposure_time=10 * u.minute,\n",
    "                              filter_fractions=filter_fractions,\n",
    "                              binning_scale=binning_scale)"
   ]
  },
  {
   "cell_type": "markdown",
   "metadata": {},
   "source": [
    "The mean values of the fitted parameters should reproduce the original model, i.e. (1.0, 1.0, 1.0)"
   ]
  },
  {
   "cell_type": "code",
   "execution_count": 41,
   "metadata": {},
   "outputs": [
    {
     "data": {
      "text/plain": [
       "array([ 1.00001001,  0.99992253,  1.00004552])"
      ]
     },
     "execution_count": 41,
     "metadata": {},
     "output_type": "execute_result"
    }
   ],
   "source": [
    "space_eye_results.mean(axis=0)"
   ]
  },
  {
   "cell_type": "markdown",
   "metadata": {},
   "source": [
    "The standard deviation of the fitted parameters gives the fractional statistical uncertainty in the ZL flux scaling, CIB flux scaling and CIB spectral slope."
   ]
  },
  {
   "cell_type": "code",
   "execution_count": 42,
   "metadata": {},
   "outputs": [
    {
     "data": {
      "text/plain": [
       "array([ 0.000494  ,  0.00386279,  0.00163065])"
      ]
     },
     "execution_count": 42,
     "metadata": {},
     "output_type": "execute_result"
    }
   ],
   "source": [
    "space_eye_results.std(axis=0, ddof=1)"
   ]
  },
  {
   "cell_type": "markdown",
   "metadata": {},
   "source": [
    "##### 2 year mission"
   ]
  },
  {
   "cell_type": "code",
   "execution_count": 43,
   "metadata": {},
   "outputs": [
    {
     "data": {
      "text/plain": [
       "array([ 0.00033742,  0.00264054,  0.00110484])"
      ]
     },
     "execution_count": 43,
     "metadata": {},
     "output_type": "execute_result"
    }
   ],
   "source": [
    "mission_duration = 2 * u.year\n",
    "n_fields = 2\n",
    "duty_cycle = 0.4\n",
    "filter_fractions = {'ase_i1': 1/4,\n",
    "                    'ase_nb855': 1/4,\n",
    "                    'ase_nb858': 1/4,\n",
    "                    'ase_z3': 1/4}\n",
    "\n",
    "binning_scale = space_eye_scale * masking_factor**0.5\n",
    "\n",
    "space_eye_results = simple_mc(instrument=space_eye_nb,\n",
    "                              total_exposure_time=mission_duration * duty_cycle / n_fields,\n",
    "                              sub_exposure_time=10 * u.minute,\n",
    "                              filter_fractions=filter_fractions,\n",
    "                              binning_scale=binning_scale)\n",
    "\n",
    "space_eye_results.std(axis=0, ddof=1)"
   ]
  },
  {
   "cell_type": "markdown",
   "metadata": {},
   "source": [
    "**For a 1-2 year mission Space Eye will achieve sufficient signal to noise for a measurement of the CIB flux of 0.4-0.3% accuracy in 2 fields, assuming spatial variations (and systematic errors) can be neglected.**\n",
    "\n",
    "#### SkyHopper\n",
    "\n",
    "##### 3 months"
   ]
  },
  {
   "cell_type": "code",
   "execution_count": 44,
   "metadata": {},
   "outputs": [
    {
     "data": {
      "text/plain": [
       "array([ 0.00137755,  0.00992664,  0.02701771])"
      ]
     },
     "execution_count": 44,
     "metadata": {},
     "output_type": "execute_result"
    }
   ],
   "source": [
    "ebl_allocation = 1/4 * u.year\n",
    "n_fields = 2\n",
    "duty_cycle = 0.4\n",
    "filter_fractions = {'z_prime': 1/3,\n",
    "                    'nb_on': 1/3,\n",
    "                    'nb_off': 1/3}\n",
    "\n",
    "binning_scale = skyhopper_scale * masking_factor**0.5\n",
    "\n",
    "skyhopper_results = simple_mc(instrument=skyhopper,\n",
    "                              total_exposure_time=ebl_allocation * duty_cycle / n_fields,\n",
    "                              sub_exposure_time=10 * u.minute,\n",
    "                              filter_fractions=filter_fractions,\n",
    "                              binning_scale=binning_scale)\n",
    "\n",
    "skyhopper_results.std(axis=0, ddof=1)"
   ]
  },
  {
   "cell_type": "markdown",
   "metadata": {},
   "source": [
    "##### 6 months"
   ]
  },
  {
   "cell_type": "code",
   "execution_count": 45,
   "metadata": {},
   "outputs": [
    {
     "data": {
      "text/plain": [
       "array([ 0.00094172,  0.00681202,  0.01872675])"
      ]
     },
     "execution_count": 45,
     "metadata": {},
     "output_type": "execute_result"
    }
   ],
   "source": [
    "ebl_allocation = 1/2 * u.year\n",
    "n_fields = 2\n",
    "duty_cycle = 0.4\n",
    "filter_fractions = {'z_prime': 1/3,\n",
    "                    'nb_on': 1/3,\n",
    "                    'nb_off': 1/3}\n",
    "\n",
    "binning_scale = skyhopper_scale * masking_factor**0.5\n",
    "\n",
    "skyhopper_results = simple_mc(instrument=skyhopper,\n",
    "                              total_exposure_time=ebl_allocation * duty_cycle / n_fields,\n",
    "                              sub_exposure_time=10 * u.minute,\n",
    "                              filter_fractions=filter_fractions,\n",
    "                              binning_scale=binning_scale)\n",
    "\n",
    "skyhopper_results.std(axis=0, ddof=1)"
   ]
  },
  {
   "cell_type": "markdown",
   "metadata": {},
   "source": [
    "**For a 3-6 month EBL time allocation SkyHopper will achieve sufficient signal to noise for a measurement of the CIB flux of 1.0-0.7% accuracy in 2 fields, assuming spatial variations (and systematic errors) can be neglected.**\n",
    "\n",
    "### Summary\n",
    "\n",
    "Both the Space Eye and SkyHopper options appear to be able to deliver sufficient signal to noise to measure the absolute EBL flux to better than ~1% in at least 2 fields given their nominal mission durations. *Under the assumptions described above the dedicated Space Eye mission appears to offer over twice the measurement precision, however.*\n",
    "\n",
    "### Caveats\n",
    "\n",
    "* This analysis is based purely on a simple signal to noise model. No allowances are made for systematic errors, which will inevitably reduce the achieved measurement precision. It is expected that these would either effect the two instruments similarly, or further favour the dedicated Space Eye.\n",
    "* The SkyHopper results are sensitive to assumptions about the read noise/sub-exposure time because for simple CDS readout and ~10 minute exposures the instrument is close to being read noise limited. If up the ramp sampling and/or longer exposures are possible then the apparent sensitive difference with Space Eye is diminished, e.g.:"
   ]
  },
  {
   "cell_type": "code",
   "execution_count": 46,
   "metadata": {},
   "outputs": [
    {
     "data": {
      "text/plain": [
       "array([ 0.00052135,  0.00372039,  0.01050027])"
      ]
     },
     "execution_count": 46,
     "metadata": {},
     "output_type": "execute_result"
    }
   ],
   "source": [
    "ebl_allocation = 1/2 * u.year\n",
    "n_fields = 2\n",
    "duty_cycle = 0.4\n",
    "filter_fractions = {'z_prime': 1/3,\n",
    "                    'nb_on': 1/3,\n",
    "                    'nb_off': 1/3}\n",
    "\n",
    "binning_scale = skyhopper_scale * masking_factor**0.5\n",
    "\n",
    "skyhopper_results = simple_mc(instrument=skyhopper,\n",
    "                              total_exposure_time=ebl_allocation * duty_cycle / n_fields,\n",
    "                              sub_exposure_time=40 * u.minute,\n",
    "                              filter_fractions=filter_fractions,\n",
    "                              binning_scale=binning_scale)\n",
    "\n",
    "skyhopper_results.std(axis=0, ddof=1)"
   ]
  },
  {
   "cell_type": "markdown",
   "metadata": {},
   "source": [
    "If the effective read noise of SkyHopper is halved then the 6 month sensitivity becomes similar to the 2 year Space Eye, 0.4% vs 0.3%."
   ]
  },
  {
   "cell_type": "code",
   "execution_count": null,
   "metadata": {},
   "outputs": [],
   "source": []
  },
  {
   "cell_type": "code",
   "execution_count": null,
   "metadata": {},
   "outputs": [],
   "source": []
  }
 ],
 "metadata": {
  "kernelspec": {
   "display_name": "Python 3",
   "language": "python",
   "name": "python3"
  },
  "language_info": {
   "codemirror_mode": {
    "name": "ipython",
    "version": 3
   },
   "file_extension": ".py",
   "mimetype": "text/x-python",
   "name": "python",
   "nbconvert_exporter": "python",
   "pygments_lexer": "ipython3",
   "version": "3.6.8"
  }
 },
 "nbformat": 4,
 "nbformat_minor": 2
}
